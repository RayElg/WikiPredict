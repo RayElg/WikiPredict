{
 "cells": [
  {
   "cell_type": "code",
   "execution_count": 4,
   "metadata": {},
   "outputs": [],
   "source": [
    "import pickle\n",
    "from bs4 import BeautifulSoup\n",
    "import spacy\n",
    "import requests\n",
    "import re\n",
    "import unicodedata\n",
    "import sys"
   ]
  },
  {
   "cell_type": "code",
   "execution_count": 16,
   "metadata": {},
   "outputs": [],
   "source": [
    "def getParagraphs(link):\n",
    "    bs = BeautifulSoup(requests.get(link).text, 'html.parser')\n",
    "    toReturn = \"\"\n",
    "    for p in bs.findAll('p'):\n",
    "        p = str(p)\n",
    "        p = re.sub(r\"♪\",\"\",p)\n",
    "        p = re.sub(r'</*.*?>', ' ',  str(p))\n",
    "        p = re.sub(r'\\[.*?]', ' ', str(p))\n",
    "        p = re.sub(r'\\n', ' ', str(p))\n",
    "        p = re.sub(r' +', ' ', str(p))\n",
    "        p = re.sub(r\"\\\"\",\"\",str(p))\n",
    "        toReturn = toReturn + str(p)\n",
    "    return toReturn\n",
    "\n",
    "#getParagraphs(\"https://en.wikipedia.org/wiki/Harris_Theater_(Chicago)\")[0:300]"
   ]
  },
  {
   "cell_type": "code",
   "execution_count": 17,
   "metadata": {},
   "outputs": [],
   "source": [
    "articles = []\n",
    "with open('Exemplary Articles.txt') as f:\n",
    "    for line in f:\n",
    "        articles.append(getParagraphs(line[0:-1]))"
   ]
  },
  {
   "cell_type": "code",
   "execution_count": null,
   "metadata": {},
   "outputs": [],
   "source": [
    "#for article in articles:\n",
    "#    print(article[1:100] + \"\\n \")"
   ]
  },
  {
   "cell_type": "code",
   "execution_count": 18,
   "metadata": {},
   "outputs": [],
   "source": [
    "pickle.dump(articles, open('articles.pickle','wb'))"
   ]
  },
  {
   "cell_type": "code",
   "execution_count": 23,
   "metadata": {},
   "outputs": [],
   "source": [
    "#articles = pickle.load(open('articles.pickle', 'rb'))"
   ]
  },
  {
   "cell_type": "code",
   "execution_count": 19,
   "metadata": {},
   "outputs": [],
   "source": [
    "def intoSentences(text):\n",
    "    sents = []\n",
    "    text = re.sub(r\"\\[.+\\]\", \"\", text)\n",
    "    text = re.sub(r\"♪\",\"\",text)\n",
    "    text = re.sub(r\"\\n\",\"\",text)\n",
    "    text = re.sub(r\"\\r\",\"\",text)\n",
    "    text = re.sub(r\" +\",\" \",text)\n",
    "    text = re.sub(r\"\\\"\",\"\",text)\n",
    "    text = re.sub(r\"”\",\"\",text)\n",
    "    sents.extend(re.split(r\"(?<=\\w\\w)[.]|[!\\?\\-–—]\",text))\n",
    "    return [i for i in sents if i != \"\" and i != \" \" ]"
   ]
  },
  {
   "cell_type": "code",
   "execution_count": 20,
   "metadata": {},
   "outputs": [],
   "source": [
    "#sentences = []\n",
    "with open(\"formalSentences.txt\",'wb') as f:\n",
    "    for article in articles:\n",
    "            artSents = re.split(r\"(?<=\\w\\w)[.]|[!\\?]\",article)\n",
    "            for sent in artSents:\n",
    "                f.write(sent.encode('utf-8', errors='replace'))\n",
    "                f.write(b\"\\n\")\n",
    "            #sentences.extend(artSents)\n",
    "#for i in range(10):\n",
    "#    print(sentences[i])\n",
    "#    print(\"\\n\")"
   ]
  },
  {
   "cell_type": "code",
   "execution_count": null,
   "metadata": {},
   "outputs": [],
   "source": []
  }
 ],
 "metadata": {
  "kernelspec": {
   "display_name": "Python 3",
   "language": "python",
   "name": "python3"
  },
  "language_info": {
   "codemirror_mode": {
    "name": "ipython",
    "version": 3
   },
   "file_extension": ".py",
   "mimetype": "text/x-python",
   "name": "python",
   "nbconvert_exporter": "python",
   "pygments_lexer": "ipython3",
   "version": "3.8.6"
  }
 },
 "nbformat": 4,
 "nbformat_minor": 4
}
