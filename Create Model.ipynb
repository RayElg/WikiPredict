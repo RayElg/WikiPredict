{
 "cells": [
  {
   "cell_type": "code",
   "execution_count": 11,
   "metadata": {},
   "outputs": [],
   "source": [
    "import pandas as pd\n",
    "import pickle\n",
    "import spacy\n",
    "import re\n",
    "import unicodedata\n",
    "import sys\n",
    "import csv\n",
    "from spacy import displacy\n",
    "from tqdm import tqdm"
   ]
  },
  {
   "cell_type": "code",
   "execution_count": 23,
   "metadata": {},
   "outputs": [],
   "source": [
    "from sklearn_pandas import DataFrameMapper\n",
    "from sklearn.feature_extraction.text import CountVectorizer\n",
    "import scipy as sp\n",
    "import numpy as np\n",
    "from collections import Counter"
   ]
  },
  {
   "cell_type": "code",
   "execution_count": 19,
   "metadata": {},
   "outputs": [],
   "source": [
    "from sklearn.feature_extraction.text import TfidfVectorizer\n",
    "from sklearn.pipeline import Pipeline\n",
    "from sklearn.model_selection import train_test_split\n",
    "from sklearn.metrics import accuracy_score, classification_report, confusion_matrix\n",
    "from sklearn.svm import LinearSVC\n",
    "from sklearn.svm import SVC"
   ]
  },
  {
   "cell_type": "code",
   "execution_count": 24,
   "metadata": {},
   "outputs": [],
   "source": [
    "from sklearn.feature_extraction import DictVectorizer"
   ]
  },
  {
   "cell_type": "markdown",
   "metadata": {},
   "source": [
    "## Pull sentences from txt files"
   ]
  },
  {
   "cell_type": "code",
   "execution_count": 12,
   "metadata": {},
   "outputs": [],
   "source": [
    "# cDF = pd.DataFrame()\n",
    "# cDF = pd.read_csv('informalSentences.txt', sep=\"\\n\", header=None, quoting=csv.QUOTE_NONE)\n",
    "# cDF.columns = [\"text\"]\n",
    "# cDF[\"isFormal\"] = [0 for i in range(len(cDF[\"text\"]))] #Label\n",
    "# cDF[\"text\"] = [str(i) if str(i)[0] != \" \" else str(i)[1::] for i in cDF[\"text\"]] #Clean up prepended spaces"
   ]
  },
  {
   "cell_type": "code",
   "execution_count": 13,
   "metadata": {},
   "outputs": [],
   "source": [
    "# cDF.head()"
   ]
  },
  {
   "cell_type": "code",
   "execution_count": 14,
   "metadata": {},
   "outputs": [],
   "source": [
    "# fDF = pd.DataFrame()\n",
    "# fDF = pd.read_csv('formalSentences.txt', sep=\"\\n\", header=None, quoting=csv.QUOTE_NONE)\n",
    "# fDF.columns = [\"text\"]\n",
    "# fDF[\"isFormal\"] = [1 for i in range(len(fDF[\"text\"]))] #Label\n",
    "# fDF[\"text\"] = [str(i) if str(i)[0] != \" \" else str(i)[1::] for i in fDF[\"text\"]] #Clean up prepended spaces"
   ]
  },
  {
   "cell_type": "code",
   "execution_count": 15,
   "metadata": {},
   "outputs": [],
   "source": [
    "# fDF.head()"
   ]
  },
  {
   "cell_type": "code",
   "execution_count": 16,
   "metadata": {},
   "outputs": [],
   "source": [
    "# df = fDF.append(cDF)"
   ]
  },
  {
   "cell_type": "markdown",
   "metadata": {},
   "source": [
    "Shuffle dataframe"
   ]
  },
  {
   "cell_type": "code",
   "execution_count": 17,
   "metadata": {},
   "outputs": [],
   "source": [
    "# df = df.sample(frac=1)\n",
    "# len(df)"
   ]
  },
  {
   "cell_type": "code",
   "execution_count": 18,
   "metadata": {},
   "outputs": [],
   "source": [
    "# df.head()"
   ]
  },
  {
   "cell_type": "code",
   "execution_count": 20,
   "metadata": {},
   "outputs": [],
   "source": [
    "nlp = spacy.load('en_core_web_sm') #Load spacy model"
   ]
  },
  {
   "cell_type": "code",
   "execution_count": 21,
   "metadata": {},
   "outputs": [],
   "source": [
    "# with open(\"df.pkl\",\"wb\") as f:\n",
    "#     pickle.dump(df, f)"
   ]
  },
  {
   "cell_type": "markdown",
   "metadata": {},
   "source": [
    "We use pickle to avoid doing that every time"
   ]
  },
  {
   "cell_type": "code",
   "execution_count": 22,
   "metadata": {},
   "outputs": [],
   "source": [
    "with open(\"df.pkl\", \"rb\") as f:\n",
    "    df = pickle.load(f)"
   ]
  },
  {
   "cell_type": "markdown",
   "metadata": {},
   "source": [
    "## Processing (Feature extraction)"
   ]
  },
  {
   "cell_type": "code",
   "execution_count": 25,
   "metadata": {},
   "outputs": [],
   "source": [
    "with open(\"cols.pkl\",\"rb\") as f:\n",
    "    column = pickle.load(f)\n",
    "with open(\"lexicon.pkl\",\"rb\") as f:\n",
    "    lexicon = pickle.load(f)"
   ]
  },
  {
   "cell_type": "code",
   "execution_count": 26,
   "metadata": {},
   "outputs": [],
   "source": [
    "cols = column.tolist()\n",
    "\n",
    "\n",
    "def counts(doc): #Frequency of POS_ tags\n",
    "    count = Counter(([token.pos_ for token in doc]))\n",
    "    countSum = sum(count.values())\n",
    "    d = dict()\n",
    "    d[\"ADJ\"],d[\"ADP\"],d[\"ADV\"],d[\"AUX\"],d[\"CONJ\"],d[\"DET\"],d[\"INTJ\"],d[\"NOUN\"],d[\"NUM\"],d[\"PART\"],d[\"PRON\"],d[\"PROPN\"],d[\"PUNCT\"],d[\"SCONJ\"],d[\"SYM\"],d[\"VERB\"],d[\"X\"] = [0 for i in range(17)]\n",
    "    for part, c, in count.items():\n",
    "        d[part]=(c/countSum)\n",
    "    return d\n",
    "\n",
    "colsS = set(cols)\n",
    "\n",
    "cV = CountVectorizer(vocabulary=lexicon) #I restrict to about 1200 words I defined in the exploratory process\n",
    "def vectorize(sentence): #Feature extraction: convert string into vector containing info on POS_ tags, BOW, etc.\n",
    "    doc = nlp(sentence)\n",
    "    split = sentence.split()\n",
    "    numWords = len(split)\n",
    "    wordLength = sum([len(i) for i in split]) / max(numWords,1)\n",
    "    d = counts(doc)\n",
    "    vdf = pd.DataFrame(columns = cols)\n",
    "    \n",
    "    bow = cV.fit_transform([sentence]).toarray()[0]\n",
    "    for i in d.items():\n",
    "        vdf[i[0]] = [i[1] * 250] #Scale ratio to range 0-250 (since the dtype will be range 0-255)\n",
    "    \n",
    "    vdf[\"numWords\"] = [numWords]\n",
    "    vdf[\"wordLength\"] = [wordLength]\n",
    "    vdf = vdf.drop(columns = [\"SPACE\"]) #This has reduced overtraining in my experience. Number of spaces should not be a concern.\n",
    "    \n",
    "    for i in range(len(lexicon)):\n",
    "        vdf[lexicon[i]] = bow[i]\n",
    "    \n",
    "    vdf.fillna(0, inplace=True)\n",
    "    return vdf.to_numpy().astype(np.uint8)[0] #Store in 8 bits instead of the standard 64\n",
    "    "
   ]
  },
  {
   "cell_type": "code",
   "execution_count": 27,
   "metadata": {},
   "outputs": [
    {
     "data": {
      "text/plain": [
       "array([6, 5, 0, ..., 0, 0, 0], dtype=uint8)"
      ]
     },
     "execution_count": 27,
     "metadata": {},
     "output_type": "execute_result"
    }
   ],
   "source": [
    "vectorize(\"Hello Hello world world world world\")"
   ]
  },
  {
   "cell_type": "markdown",
   "metadata": {},
   "source": [
    "We pick only 3% of the df right now, so it takes a few hours to process in the background instead of days. Also greatly reduces size of the array."
   ]
  },
  {
   "cell_type": "code",
   "execution_count": 29,
   "metadata": {},
   "outputs": [],
   "source": [
    "tiny = df.sample(frac=0.03)"
   ]
  },
  {
   "cell_type": "code",
   "execution_count": 30,
   "metadata": {},
   "outputs": [
    {
     "name": "stderr",
     "output_type": "stream",
     "text": [
      "100%|██████████████████████████████████████████████████████████████████████████| 26920/26920 [3:10:19<00:00,  2.36it/s]\n"
     ]
    }
   ],
   "source": [
    "train = [vectorize(i) for i in tqdm(tiny[\"text\"])]"
   ]
  },
  {
   "cell_type": "code",
   "execution_count": 31,
   "metadata": {},
   "outputs": [
    {
     "data": {
      "text/plain": [
       "'26920*1256'"
      ]
     },
     "execution_count": 31,
     "metadata": {},
     "output_type": "execute_result"
    }
   ],
   "source": [
    "str(len(train)) + \"*\" + str(len(train[0]))"
   ]
  },
  {
   "cell_type": "code",
   "execution_count": 33,
   "metadata": {},
   "outputs": [],
   "source": [
    "isFormal = tiny[\"isFormal\"].to_numpy().astype(np.uint8)"
   ]
  },
  {
   "cell_type": "code",
   "execution_count": 34,
   "metadata": {},
   "outputs": [
    {
     "data": {
      "text/plain": [
       "26920"
      ]
     },
     "execution_count": 34,
     "metadata": {},
     "output_type": "execute_result"
    }
   ],
   "source": [
    "len(isFormal)"
   ]
  },
  {
   "cell_type": "code",
   "execution_count": 36,
   "metadata": {},
   "outputs": [],
   "source": [
    "import scipy.sparse as sparse\n",
    "with open(\"train.pkl\",\"wb\") as f:\n",
    "    pickle.dump(sparse.csr_matrix(train),f)\n",
    "with open(\"isFormal.pkl\",\"wb\") as f:\n",
    "    pickle.dump(isFormal,f)"
   ]
  },
  {
   "cell_type": "code",
   "execution_count": 37,
   "metadata": {},
   "outputs": [],
   "source": [
    "XTrain, XTest, yTrain, yTest = train_test_split(train, isFormal, test_size=0.3, random_state=1)"
   ]
  },
  {
   "cell_type": "code",
   "execution_count": 38,
   "metadata": {},
   "outputs": [],
   "source": [
    "from sklearn.preprocessing import StandardScaler\n",
    "from sklearn.pipeline import make_pipeline"
   ]
  },
  {
   "cell_type": "markdown",
   "metadata": {},
   "source": [
    "## Model"
   ]
  },
  {
   "cell_type": "code",
   "execution_count": 39,
   "metadata": {},
   "outputs": [],
   "source": [
    "clfP = make_pipeline(StandardScaler(), SVC(random_state=0, probability=True, ))"
   ]
  },
  {
   "cell_type": "code",
   "execution_count": 40,
   "metadata": {},
   "outputs": [
    {
     "data": {
      "text/plain": [
       "Pipeline(steps=[('standardscaler', StandardScaler()),\n",
       "                ('svc', SVC(probability=True, random_state=0))])"
      ]
     },
     "execution_count": 40,
     "metadata": {},
     "output_type": "execute_result"
    }
   ],
   "source": [
    "clfP"
   ]
  },
  {
   "cell_type": "code",
   "execution_count": 41,
   "metadata": {},
   "outputs": [],
   "source": [
    "clfL = make_pipeline(StandardScaler(), LinearSVC(random_state=0))"
   ]
  },
  {
   "cell_type": "code",
   "execution_count": 42,
   "metadata": {},
   "outputs": [
    {
     "data": {
      "text/plain": [
       "Pipeline(steps=[('standardscaler', StandardScaler()),\n",
       "                ('linearsvc', LinearSVC(random_state=0))])"
      ]
     },
     "execution_count": 42,
     "metadata": {},
     "output_type": "execute_result"
    }
   ],
   "source": [
    "clfL"
   ]
  },
  {
   "cell_type": "code",
   "execution_count": 43,
   "metadata": {},
   "outputs": [],
   "source": [
    "from sklearn.naive_bayes import ComplementNB\n",
    "from sklearn.naive_bayes import MultinomialNB\n",
    "clfNB = ComplementNB()"
   ]
  },
  {
   "cell_type": "code",
   "execution_count": 44,
   "metadata": {},
   "outputs": [],
   "source": [
    "clfMNB = MultinomialNB()"
   ]
  },
  {
   "cell_type": "code",
   "execution_count": 47,
   "metadata": {},
   "outputs": [],
   "source": [
    "from sklearn.tree import DecisionTreeClassifier\n",
    "clfDT = DecisionTreeClassifier(random_state=0)\n",
    "from sklearn.ensemble import VotingClassifier"
   ]
  },
  {
   "cell_type": "code",
   "execution_count": 48,
   "metadata": {},
   "outputs": [],
   "source": [
    "voterS = VotingClassifier(estimators=[(\"SVC\", clfP), (\"Naive Bayes\", clfNB), (\"Multinomial: \", clfMNB), (\"Decision Tree: \", clfDT)], voting='soft')"
   ]
  },
  {
   "cell_type": "markdown",
   "metadata": {},
   "source": [
    "Specifically soft voting chosen, to get probability rather than 0,1."
   ]
  },
  {
   "cell_type": "code",
   "execution_count": 49,
   "metadata": {},
   "outputs": [
    {
     "data": {
      "text/plain": [
       "VotingClassifier(estimators=[('SVC',\n",
       "                              Pipeline(steps=[('standardscaler',\n",
       "                                               StandardScaler()),\n",
       "                                              ('svc',\n",
       "                                               SVC(probability=True,\n",
       "                                                   random_state=0))])),\n",
       "                             ('Naive Bayes', ComplementNB()),\n",
       "                             ('Multinomial: ', MultinomialNB()),\n",
       "                             ('Decision Tree: ',\n",
       "                              DecisionTreeClassifier(random_state=0))],\n",
       "                 voting='soft')"
      ]
     },
     "execution_count": 49,
     "metadata": {},
     "output_type": "execute_result"
    }
   ],
   "source": [
    "voterS.fit(XTrain,yTrain)"
   ]
  },
  {
   "cell_type": "code",
   "execution_count": 50,
   "metadata": {},
   "outputs": [],
   "source": [
    "with open(\"voterS.pkl\", \"wb\") as f: #Save for deployment\n",
    "    pickle.dump(voterS, f)"
   ]
  },
  {
   "cell_type": "markdown",
   "metadata": {},
   "source": [
    "## Evaluating"
   ]
  },
  {
   "cell_type": "code",
   "execution_count": 51,
   "metadata": {},
   "outputs": [],
   "source": [
    "yPred = voterS.predict(XTest)"
   ]
  },
  {
   "cell_type": "code",
   "execution_count": 52,
   "metadata": {},
   "outputs": [
    {
     "name": "stdout",
     "output_type": "stream",
     "text": [
      "              precision    recall  f1-score   support\n",
      "\n",
      "           0       0.97      0.76      0.86      5337\n",
      "           1       0.68      0.96      0.79      2739\n",
      "\n",
      "    accuracy                           0.83      8076\n",
      "   macro avg       0.82      0.86      0.82      8076\n",
      "weighted avg       0.87      0.83      0.83      8076\n",
      "\n",
      "---\n",
      "[[4081 1256]\n",
      " [ 115 2624]]\n"
     ]
    }
   ],
   "source": [
    "print(classification_report(yTest,yPred))\n",
    "print(\"---\")\n",
    "print(confusion_matrix(yTest,yPred))"
   ]
  },
  {
   "cell_type": "markdown",
   "metadata": {},
   "source": [
    "That's pretty good! The commented code below was previously used to evaluate predict_proba. I found that for P(informal) > 0.9, the accuracy was very high."
   ]
  },
  {
   "cell_type": "code",
   "execution_count": 53,
   "metadata": {},
   "outputs": [],
   "source": [
    "#tpConf = [max(voterS.predict_proba([i])[0]) for i in tX]\n",
    "#tyPred = voterS.predict(tX)\n",
    "#tpSucc = [\"Yes\" if tyPred[i] == sY[i] else \"No\" for i in range(len(sY))]\n",
    "#s = 0\n",
    "#for i in range(len(tpSucc)):\n",
    "#    print(\"Confidence: \" + str(int(tpConf[i] * 1000)/10) + \"%. Was correct: \" + str(tpSucc[i]))"
   ]
  },
  {
   "cell_type": "code",
   "execution_count": 54,
   "metadata": {},
   "outputs": [
    {
     "data": {
      "text/plain": [
       "array([[9.99828863e-01, 1.71136694e-04]])"
      ]
     },
     "execution_count": 54,
     "metadata": {},
     "output_type": "execute_result"
    }
   ],
   "source": [
    "voterS.predict_proba([vectorize(\"Hey, how are you?\")])"
   ]
  },
  {
   "cell_type": "code",
   "execution_count": 55,
   "metadata": {},
   "outputs": [
    {
     "data": {
      "text/plain": [
       "array([[0.03933179, 0.96066821]])"
      ]
     },
     "execution_count": 55,
     "metadata": {},
     "output_type": "execute_result"
    }
   ],
   "source": [
    "voterS.predict_proba([vectorize(\"Abraham lincoln was born on the 5th of May.\")])"
   ]
  },
  {
   "cell_type": "code",
   "execution_count": 64,
   "metadata": {},
   "outputs": [
    {
     "data": {
      "text/plain": [
       "array([[0.87641197, 0.12358803]])"
      ]
     },
     "execution_count": 64,
     "metadata": {},
     "output_type": "execute_result"
    }
   ],
   "source": [
    "voterS.predict_proba([vectorize(\"He was born in May.\")])"
   ]
  },
  {
   "cell_type": "code",
   "execution_count": 66,
   "metadata": {},
   "outputs": [
    {
     "data": {
      "text/plain": [
       "array([[0.61691521, 0.38308479]])"
      ]
     },
     "execution_count": 66,
     "metadata": {},
     "output_type": "execute_result"
    }
   ],
   "source": [
    "voterS.predict_proba([vectorize(\"They were born in May.\")])"
   ]
  }
 ],
 "metadata": {
  "kernelspec": {
   "display_name": "Python 3",
   "language": "python",
   "name": "python3"
  },
  "language_info": {
   "codemirror_mode": {
    "name": "ipython",
    "version": 3
   },
   "file_extension": ".py",
   "mimetype": "text/x-python",
   "name": "python",
   "nbconvert_exporter": "python",
   "pygments_lexer": "ipython3",
   "version": "3.8.6"
  }
 },
 "nbformat": 4,
 "nbformat_minor": 4
}
